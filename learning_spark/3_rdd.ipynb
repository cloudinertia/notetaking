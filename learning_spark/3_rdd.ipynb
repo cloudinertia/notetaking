{
 "cells": [
  {
   "cell_type": "markdown",
   "metadata": {},
   "source": [
    "# chapter 3, RDD"
   ]
  },
  {
   "cell_type": "markdown",
   "metadata": {},
   "source": [
    "## RDD는?\n",
    "- R(회복 가능한) D(분산) D(데이터셋)\n",
    "- 강력한 점:\n",
    " - 알아서 분산/병렬 처리 연산을 해줌\n",
    " - 알아서 분산 저장소에 저장\n",
    " - 즉 분산처리를 쉽게하기 위해 데이터를 추상화한 형태"
   ]
  },
  {
   "cell_type": "code",
   "execution_count": 1,
   "metadata": {
    "collapsed": true
   },
   "outputs": [],
   "source": [
    "from pyspark import SparkConf, SparkContext\n",
    "\n",
    "conf = SparkConf().setMaster(\"local\").setAppName(\"3_rdd\")\n",
    "sc = SparkContext(conf = conf)"
   ]
  },
  {
   "cell_type": "markdown",
   "metadata": {},
   "source": [
    "## transformation and action\n",
    "\n",
    "**transformation**\n",
    "- RDD ----(transformation) ---> RDD\n",
    "- RDD에서 새로운 RDD (**important!:** 기존의 RDD를 바꾸는게 아님)\n",
    "- Lazy calculation\n",
    "    - spark는 transformation연산은 필요할 때에만 수행함\n",
    "    - 좀 더 정확히 말하면, action이 수행될 때에 transformation도 같이 수행함\n",
    "    - 그러니까  RDD.map( ... ).filter( ... ) 라고 써도 이 시점에서 계산하는게 아니라\n",
    "    - 그냥 저 instruction을 기억해 두고 있다가 필요할 때에 한꺼번에 계산함.\n",
    "    \n",
    "**action**\n",
    "- RDD ---(action)---> other types(e.g. int ...)\n",
    "- Invoke calculation"
   ]
  },
  {
   "cell_type": "markdown",
   "metadata": {
    "collapsed": true
   },
   "source": [
    "## examples of transformation\n",
    "\n",
    "__textFile__"
   ]
  },
  {
   "cell_type": "code",
   "execution_count": 19,
   "metadata": {
    "collapsed": false
   },
   "outputs": [
    {
     "data": {
      "text/plain": [
       "['995921일반외부장학금 받기 너무 힘들다5 47e2ab54 9분 전 0 28',\n",
       " '995917일반이종걸 원내대표 박근혜 대통령에게 탓통령...1 d896b15c 20분 전333',\n",
       " '995916일반연게에 가끔 평범 연돌이 무시하는 글 올...2 dc12bde5 20분 전362',\n",
       " '995914일반광역어그로8 3068ef1d 28분 전 0 63',\n",
       " '995913일반전현무 센빠이 평이 그닥인 듯.....? ㅠㅠ11 63de2cfe 29분 전 0 110']"
      ]
     },
     "execution_count": 19,
     "metadata": {},
     "output_type": "execute_result"
    }
   ],
   "source": [
    "lines = sc.textFile(\"data/3_rdd.txt\") \n",
    "lines.take(5)"
   ]
  },
  {
   "cell_type": "markdown",
   "metadata": {},
   "source": [
    "__filter__"
   ]
  },
  {
   "cell_type": "code",
   "execution_count": 18,
   "metadata": {
    "collapsed": false
   },
   "outputs": [
    {
     "data": {
      "text/plain": [
       "['995648일반로스쿨 진학 1학기에 상법듣게 생겼는데;;8 84afba02 21시간 전 0 173']"
      ]
     },
     "execution_count": 18,
     "metadata": {},
     "output_type": "execute_result"
    }
   ],
   "source": [
    "lawSchool = lines.filter( lambda line: \"로스쿨\" in line)\n",
    "lawSchool.collect() # collect: show all"
   ]
  },
  {
   "cell_type": "markdown",
   "metadata": {},
   "source": [
    "__map__"
   ]
  },
  {
   "cell_type": "code",
   "execution_count": 21,
   "metadata": {
    "collapsed": false
   },
   "outputs": [
    {
     "data": {
      "text/plain": [
       "['일반외부장학금 받기 너무 힘들다5 47e2ab54 9분 전 0 28',\n",
       " '일반이종걸 원내대표 박근혜 대통령에게 탓통령...1 d896b15c 20분 전333',\n",
       " '일반연게에 가끔 평범 연돌이 무시하는 글 올...2 dc12bde5 20분 전362',\n",
       " '일반광역어그로8 3068ef1d 28분 전 0 63',\n",
       " '일반전현무 센빠이 평이 그닥인 듯.....? ㅠㅠ11 63de2cfe 29분 전 0 110']"
      ]
     },
     "execution_count": 21,
     "metadata": {},
     "output_type": "execute_result"
    }
   ],
   "source": [
    "import re\n",
    "skip_first_num = lines.map( lambda line: re.match(r\"\\d{6}(.*)\",line).group(1))#정규식을 배웁시다 여러분\n",
    "skip_first_num.take(5)# 995921 이거 잘라봄."
   ]
  },
  {
   "cell_type": "markdown",
   "metadata": {},
   "source": [
    "__flatMap__"
   ]
  },
  {
   "cell_type": "code",
   "execution_count": 34,
   "metadata": {
    "collapsed": false
   },
   "outputs": [
    {
     "name": "stdout",
     "output_type": "stream",
     "text": [
      "map\n",
      "[['995921일반외부장학금', '받기', '너무', '힘들다5', '47e2ab54', '9분', '전', '0', '28'], ['995917일반이종걸', '원내대표', '박근혜', '대통령에게', '탓통령...1', 'd896b15c', '20분', '전333']]\n",
      "flatMap\n",
      "['995921일반외부장학금', '받기', '너무', '힘들다5', '47e2ab54', '9분', '전', '0', '28', '995917일반이종걸']\n"
     ]
    }
   ],
   "source": [
    "split_by_space_map = lines.map( lambda line: line.split(\" \"))\n",
    "split_by_space_flatMap = lines.flatMap( lambda line: line.split(\" \"))\n",
    "\n",
    "print(\"map\")\n",
    "print(split_by_space_map.take(2))\n",
    "print(\"flatMap\")#말 그대로 평평하게 펼쳐줌. inner list없음\n",
    "print(split_by_space_flatMap.take(10))"
   ]
  },
  {
   "cell_type": "markdown",
   "metadata": {},
   "source": [
    "__intersection__(비싼 operation)"
   ]
  },
  {
   "cell_type": "code",
   "execution_count": 28,
   "metadata": {
    "collapsed": false
   },
   "outputs": [
    {
     "data": {
      "text/plain": [
       "[2, 1]"
      ]
     },
     "execution_count": 28,
     "metadata": {},
     "output_type": "execute_result"
    }
   ],
   "source": [
    "set_a = sc.parallelize([1,2,3])\n",
    "set_b = sc.parallelize([1,2,4])\n",
    "set_a.intersection(set_b).collect()"
   ]
  },
  {
   "cell_type": "markdown",
   "metadata": {},
   "source": [
    "__distinct__(주의: 비싼 operation)"
   ]
  },
  {
   "cell_type": "code",
   "execution_count": 29,
   "metadata": {
    "collapsed": false
   },
   "outputs": [
    {
     "data": {
      "text/plain": [
       "[1, 2, 3, 4]"
      ]
     },
     "execution_count": 29,
     "metadata": {},
     "output_type": "execute_result"
    }
   ],
   "source": [
    "distinct_example = sc.parallelize([1,1,2,3,3,4])\n",
    "distinct_example.distinct().collect()"
   ]
  },
  {
   "cell_type": "markdown",
   "metadata": {},
   "source": [
    "__subtract__(비쌈)"
   ]
  },
  {
   "cell_type": "code",
   "execution_count": 31,
   "metadata": {
    "collapsed": false
   },
   "outputs": [
    {
     "data": {
      "text/plain": [
       "[3]"
      ]
     },
     "execution_count": 31,
     "metadata": {},
     "output_type": "execute_result"
    }
   ],
   "source": [
    "A = sc.parallelize([1,2,3])\n",
    "B = sc.parallelize([1,2])\n",
    "A.subtract(B).collect()"
   ]
  },
  {
   "cell_type": "markdown",
   "metadata": {},
   "source": [
    "__cartesian (product)__(비쌈)"
   ]
  },
  {
   "cell_type": "code",
   "execution_count": 58,
   "metadata": {
    "collapsed": false
   },
   "outputs": [
    {
     "data": {
      "text/plain": [
       "[(1, '철수'),\n",
       " (1, '영희'),\n",
       " (1, '안철수'),\n",
       " (2, '철수'),\n",
       " (2, '영희'),\n",
       " (2, '안철수'),\n",
       " (3, '철수'),\n",
       " (3, '영희'),\n",
       " (3, '안철수')]"
      ]
     },
     "execution_count": 58,
     "metadata": {},
     "output_type": "execute_result"
    }
   ],
   "source": [
    "coordinate = sc.parallelize([1,2,3])\n",
    "name = sc.parallelize([\"철수\",\"영희\",\"안철수\"])\n",
    "coordinate.cartesian(name).collect()"
   ]
  },
  {
   "cell_type": "markdown",
   "metadata": {},
   "source": [
    "__sample__(샘플링)\n",
    "\n",
    "RDD.sample(True(복원)/False(비복원),fraction)"
   ]
  },
  {
   "cell_type": "code",
   "execution_count": 102,
   "metadata": {
    "collapsed": false
   },
   "outputs": [
    {
     "data": {
      "text/plain": [
       "[12, 16, 18]"
      ]
     },
     "execution_count": 102,
     "metadata": {},
     "output_type": "execute_result"
    }
   ],
   "source": [
    "A = sc.parallelize(range(20))\n",
    "A.sample(False, 0.2).collect()"
   ]
  },
  {
   "cell_type": "markdown",
   "metadata": {},
   "source": [
    "## example of actions"
   ]
  },
  {
   "cell_type": "markdown",
   "metadata": {},
   "source": [
    "__count, countByValue__"
   ]
  },
  {
   "cell_type": "code",
   "execution_count": 36,
   "metadata": {
    "collapsed": false
   },
   "outputs": [
    {
     "data": {
      "text/plain": [
       "157"
      ]
     },
     "execution_count": 36,
     "metadata": {},
     "output_type": "execute_result"
    }
   ],
   "source": [
    "lines.count()"
   ]
  },
  {
   "cell_type": "code",
   "execution_count": 55,
   "metadata": {
    "collapsed": false
   },
   "outputs": [
    {
     "data": {
      "text/plain": [
       "[('전', 119),\n",
       " ('0', 116),\n",
       " ('한시간', 18),\n",
       " ('20시간', 15),\n",
       " ('2시간', 14),\n",
       " ('21시간', 13),\n",
       " ('5시간', 12),\n",
       " ('3시간', 10),\n",
       " ('6시간', 10),\n",
       " ('8시간', 9)]"
      ]
     },
     "execution_count": 55,
     "metadata": {},
     "output_type": "execute_result"
    }
   ],
   "source": [
    "sorted(lines.map(lambda line: re.match(r\"\\d{6}..(.*)\",line).group(1))\\\n",
    ".flatMap(lambda line: line.split(\" \"))\\\n",
    ".countByValue().items(), key=lambda x:x[1], reverse=True)[:10]# 죄성합니다... 밑에 다시 쉬운 예제"
   ]
  },
  {
   "cell_type": "code",
   "execution_count": 56,
   "metadata": {
    "collapsed": false
   },
   "outputs": [
    {
     "data": {
      "text/plain": [
       "defaultdict(int, {1: 2, 2: 1, 3: 1})"
      ]
     },
     "execution_count": 56,
     "metadata": {},
     "output_type": "execute_result"
    }
   ],
   "source": [
    "A = sc.parallelize([1,1,2,3])\n",
    "A.countByValue()"
   ]
  },
  {
   "cell_type": "markdown",
   "metadata": {},
   "source": [
    "__collect__ (이미 많이 씀, RDD에 있는 transformation을 모두 다 꺼내올 때에 씀)"
   ]
  },
  {
   "cell_type": "markdown",
   "metadata": {},
   "source": [
    "__take, top__ (이름만으로 이미 유추됨? ㅇㅇ 몇개만 꺼내오겠다는거, take는 무작위로 top은 상위에 있는거부터)"
   ]
  },
  {
   "cell_type": "code",
   "execution_count": 103,
   "metadata": {
    "collapsed": false
   },
   "outputs": [
    {
     "data": {
      "text/plain": [
       "['i', 'am', 'ronaldo']"
      ]
     },
     "execution_count": 103,
     "metadata": {},
     "output_type": "execute_result"
    }
   ],
   "source": [
    "A = sc.parallelize([\"i\",\"am\",\"ronaldo\"])\n",
    "A.take(3) # 아직 분산하여 넣지 않았으므로 순서가 보존됨"
   ]
  },
  {
   "cell_type": "markdown",
   "metadata": {},
   "source": [
    "__reduce__"
   ]
  },
  {
   "cell_type": "code",
   "execution_count": 68,
   "metadata": {
    "collapsed": false
   },
   "outputs": [
    {
     "name": "stdout",
     "output_type": "stream",
     "text": [
      "123\n",
      "321\n",
      "123\n"
     ]
    }
   ],
   "source": [
    "A = sc.parallelize([\"1\",\"2\",\"3\"])\n",
    "print(A.reduce(lambda x,y: x+y))\n",
    "print(A.reduce(lambda x,y: y+x))\n",
    "print(A.reduce(lambda currentItem,accumulatedValue: currentItem + accumulatedValue))\n",
    "#이걸 다 이해해야 reduce를 이해한거!"
   ]
  },
  {
   "cell_type": "markdown",
   "metadata": {},
   "source": [
    "__fold__ (reduce랑 거의 비슷한데 멱등원을 넣어줘야함. 멱등원이란 + 에서 0, x에서 1과 같이 값을 여려번 적용해도 원래 값이 바뀌지 않는 것)\n",
    "\n",
    "- reduce vs fold\n",
    " - reduce는 계산 순서가 상관 없어야 함.(물론 위에서는 상관있는 것 처럼 보이지만)\n",
    "     - 수학적으로 commutative monoid 여야 reduce 연산을 사용할 수 있다고 함.\n",
    "     - 모노이드는 수학의 범주론에서 나오는 개념임.(즉 하스켈을 쓰지 않는 이상 몰라도 됨)\n",
    "     - 교환법칙과 결합법칙이 다 만족하는 거라고 하는데 자세히는 모르겠음.\n",
    " - fold는 그럴 필요 없음.(더 상위 개념)\n",
    "     - 즉 교환법칙이나 결합법칙이 성립할 필요가 음슴\n",
    "     \n",
    "자세한건 [여기](http://stackoverflow.com/questions/25158780/difference-between-reduce-and-foldleft-fold-in-functional-programming-particula) 참고해보셈"
   ]
  },
  {
   "cell_type": "code",
   "execution_count": 75,
   "metadata": {
    "collapsed": false
   },
   "outputs": [
    {
     "data": {
      "text/plain": [
       "6"
      ]
     },
     "execution_count": 75,
     "metadata": {},
     "output_type": "execute_result"
    }
   ],
   "source": [
    "A = sc.parallelize([1,2,3])\n",
    "A.fold(0, lambda x,y : x+y)"
   ]
  },
  {
   "cell_type": "markdown",
   "metadata": {},
   "source": [
    "__aggregate__\n",
    "- 이놈도 reduce랑 비슷한데 좀 개념이 더 애매함\n",
    "- 이 놈은 reduce랑 다르게 두 개의 함수를 pass 해줘야함\n",
    "    1. 노드 내에서 일어나는 계산을 정의하는 함수\n",
    "    2. 노드와 노드를 합치는 계산을 정의하는 함수\n",
    "- fold와 같이 멱등원도 넣어줘야함"
   ]
  },
  {
   "cell_type": "code",
   "execution_count": 76,
   "metadata": {
    "collapsed": false
   },
   "outputs": [
    {
     "data": {
      "text/plain": [
       "10"
      ]
     },
     "execution_count": 76,
     "metadata": {},
     "output_type": "execute_result"
    }
   ],
   "source": [
    "A = sc.parallelize([1,2,3,4])\n",
    "A.aggregate(0,\n",
    "    lambda acc, val: acc + val,\n",
    "    lambda acc1, acc2: acc1 + acc2\n",
    ") \n",
    "# ㅋㅋㅋ 이짓을 왜하는지 모르겠음. 지금은 reduce랑 정확히 동일함.\n",
    "# 하지만 뭐 책을 보면, aggregate는 input과 다른 타입의 output이 나올 수도 있다고 함."
   ]
  },
  {
   "cell_type": "code",
   "execution_count": 80,
   "metadata": {
    "collapsed": false,
    "scrolled": true
   },
   "outputs": [
    {
     "data": {
      "text/plain": [
       "('1234', 10)"
      ]
     },
     "execution_count": 80,
     "metadata": {},
     "output_type": "execute_result"
    }
   ],
   "source": [
    "A.aggregate( (\"\",0),\n",
    "    (lambda acc, val : (acc[0]+str(val),acc[1]+val) ),\n",
    "    (lambda acc1, acc2 : (acc1[0]+acc2[0], acc1[1]+acc2[1]))\n",
    ")\n",
    "# 즉, 이런식으로 장난질 칠 수 있나봄(좀 더 유연한가) 여튼 아직 왜 이게 있는지는 잘 모르겠음"
   ]
  },
  {
   "cell_type": "markdown",
   "metadata": {},
   "source": [
    "## persist, cache\n",
    "- 아까 spark는 lazy calculation을 한다고 했는데 대부분의 경우 효율적임\n",
    "- 하지만 똑같은 RDD를 여러번 사용해야한다면?\n",
    "    - lazy하므로 해당 RDD에 action이 취해질 때 마다 transformation chain을 매번 수행함\n",
    "    - 예를들어 \n",
    "        - line = lines.filter(lambda x: x > 2).map(lambda x: x + 2)\n",
    "        - 저기서 line을 부르면 부를 때 마다 filter,map transformation 수행하고 그다음 연산을 함\n",
    "        - 이럴땐 시간이 많이 걸림...\n",
    "    - 이 때에 시간을 절약하기 위해 사용하는게 persist나 cache임.\n",
    "- pyspark.StorageLevel로 어디에 저장할건지 설정할 수 있습니다. 이건 함 찾아보세요"
   ]
  },
  {
   "cell_type": "code",
   "execution_count": 89,
   "metadata": {
    "collapsed": false
   },
   "outputs": [
    {
     "data": {
      "text/plain": [
       "[2, 3, 4]"
      ]
     },
     "execution_count": 89,
     "metadata": {},
     "output_type": "execute_result"
    }
   ],
   "source": [
    "B = A.filter(lambda x: x>1).persist() # 이 이후론 B계산결과는 저장되어있음\n",
    "B.collect()"
   ]
  },
  {
   "cell_type": "code",
   "execution_count": 91,
   "metadata": {
    "collapsed": false
   },
   "outputs": [
    {
     "data": {
      "text/plain": [
       "PythonRDD[139] at RDD at PythonRDD.scala:48"
      ]
     },
     "execution_count": 91,
     "metadata": {},
     "output_type": "execute_result"
    }
   ],
   "source": [
    "B.unpersist() #저장된거 삭제"
   ]
  },
  {
   "cell_type": "markdown",
   "metadata": {},
   "source": [
    "*reference*\n",
    "- learning spark(책)\n",
    "- 하용호씨 slide share [링크](https://www.slideshare.net/yongho/rdd-paper-review)\n",
    "- RDD 논문 [링크](http://www-bcf.usc.edu/~minlanyu/teach/csci599-fall12/papers/nsdi_spark.pdf)"
   ]
  }
 ],
 "metadata": {
  "kernelspec": {
   "display_name": "Python 3",
   "language": "python",
   "name": "python3"
  },
  "language_info": {
   "codemirror_mode": {
    "name": "ipython",
    "version": 3
   },
   "file_extension": ".py",
   "mimetype": "text/x-python",
   "name": "python",
   "nbconvert_exporter": "python",
   "pygments_lexer": "ipython3",
   "version": "3.5.2"
  }
 },
 "nbformat": 4,
 "nbformat_minor": 2
}
